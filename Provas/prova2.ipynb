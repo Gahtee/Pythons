#Situação Poblema:
#Um dos grandes problemas da pandemia foi a não-visulização da população quanto
#a real ploriferação da Covid-19 e este mapa mostra usando uma database adaptada
#da database do OPENDATASUS
import plotly as plt
import plotly.express as px
import json
from urllib.request import urlopen
import pandas as pd

#JSON (GeoJSON) dos estados do brasil
with urlopen('https://raw.githubusercontent.com/codeforamerica/click_that_hood/master/public/data/brazil-states.geojson') as response:
    Brasil = json.load(response)

#Separa os estados e suas localidades do resto
estadoID = {}
for feature in Brasil['features']:
 feature['id'] = feature['properties']['name']
 estadoID[feature['properties']['sigla']] = feature['id']


#Database dos casos totais dos estados
df = pd.read_csv("https://raw.githubusercontent.com/Gahtee/DadosRando/main/data-lBTpd.csv", sep=";")
casos = df[['estado','casos']].groupby(df['estado']).sum().reset_index()


#Criação do mapa
fig = px.choropleth(casos, geojson=Brasil, locations='estado', color='casos',
                           color_continuous_scale="sunsetdark",
                           scope="south america",
                          )
fig.show()


